{
 "cells": [
  {
   "cell_type": "code",
   "execution_count": 1,
   "id": "composed-intake",
   "metadata": {},
   "outputs": [],
   "source": [
    "import os\n",
    "import sys\n",
    "import json\n",
    "import glob\n",
    "import gym\n",
    "import numpy as np\n",
    "import matplotlib.pyplot as plt\n",
    "import cv2\n",
    "from PIL import Image, ImageFont, ImageDraw\n",
    "import imageio\n",
    "\n",
    "sys.path.append('../')\n",
    "from bnp_options import *\n",
    "from env.atari_env import AtariEnv\n",
    "from env.augmented_atari_env import AugmentedAtariEnv\n",
    "\n",
    "sys.path.append('../../stable-baselines3')\n",
    "from stable_baselines3.common.env_util import make_vec_env, make_atari_env\n",
    "from stable_baselines3.common.vec_env import VecTransposeImage\n",
    "from stable_baselines3.common.atari_wrappers import AtariWrapper\n",
    "from stable_baselines3 import PPO"
   ]
  },
  {
   "cell_type": "code",
   "execution_count": 2,
   "id": "assumed-seating",
   "metadata": {},
   "outputs": [],
   "source": [
    "runs_dir = '/data/bnp_options_runs'\n",
    "name = 'spaceInvaders'\n",
    "\n",
    "# pretrained_path = f'{runs_dir}/6777783_bnp_montezumaRevenge_0'\n",
    "# trained_path = f'{runs_dir}/6777783_augmented_bnp_montezumaRevenge_0'\n",
    "# env_name = 'MontezumaRevengeNoFrameskip-v4'\n",
    "\n",
    "# pretrained_path = f'{runs_dir}/6777803_bnp_chopperCommand_0'\n",
    "# trained_path = f'{runs_dir}/6777803_augmented_bnp_chopperCommand_0'\n",
    "# env_name = 'ChopperCommandNoFrameskip-v4'\n",
    "\n",
    "# pretrained_path = f'{runs_dir}/6777804_bnp_breakout_2'\n",
    "# trained_path = f'{runs_dir}/6777804_augmented_bnp_breakout_2'\n",
    "# env_name = 'BreakoutNoFrameskip-v4'\n",
    "\n",
    "pretrained_path = f'{runs_dir}/6777813_bnp_spaceInvaders_2'\n",
    "trained_path = f'{runs_dir}/6777813_augmented_bnp_spaceInvaders_2'\n",
    "env_name = 'SpaceInvadersNoFrameskip-v4'"
   ]
  },
  {
   "cell_type": "code",
   "execution_count": 3,
   "id": "congressional-invention",
   "metadata": {},
   "outputs": [],
   "source": [
    "random_seed = 0\n",
    "rng_master = np.random.RandomState(random_seed)\n",
    "np.random.seed(random_seed) # there were some issue with reproducibility"
   ]
  },
  {
   "cell_type": "code",
   "execution_count": 4,
   "id": "sunset-corner",
   "metadata": {},
   "outputs": [],
   "source": [
    "env = gym.make(env_name)\n",
    "state_dim = 1024\n",
    "action_dim = env.action_space.n\n",
    "device='cuda'"
   ]
  },
  {
   "cell_type": "code",
   "execution_count": 5,
   "id": "foreign-assignment",
   "metadata": {},
   "outputs": [],
   "source": [
    "with open(os.path.join(pretrained_path, 'config.json'), 'r') as config_file:\n",
    "    config = json.load(config_file)\n",
    "    \n",
    "model = BNPOptions(None, state_dim, action_dim, device, rng=rng_master, **config)\n",
    "\n",
    "model.load(os.path.join(pretrained_path, 'checkpoint.pth'))\n"
   ]
  },
  {
   "cell_type": "code",
   "execution_count": 6,
   "id": "convenient-taiwan",
   "metadata": {},
   "outputs": [],
   "source": [
    "def augmented_atari_wrapper(env, model):\n",
    "    env = AtariWrapper(env)\n",
    "    env = AugmentedAtariEnv(env, model, max_steps=15)\n",
    "    return env\n",
    "\n",
    "n_envs = 10\n",
    "augmented_env = VecTransposeImage(make_vec_env(env_name, n_envs=n_envs, seed=random_seed, \n",
    "    wrapper_class=lambda env: augmented_atari_wrapper(env, model)\n",
    "))"
   ]
  },
  {
   "cell_type": "code",
   "execution_count": 7,
   "id": "solar-mortality",
   "metadata": {
    "scrolled": true
   },
   "outputs": [
    {
     "name": "stdout",
     "output_type": "stream",
     "text": [
      "Using cuda device\n"
     ]
    }
   ],
   "source": [
    "ppo = PPO.load(os.path.join(trained_path, \"ppo_augmented\"))\n",
    "# ppo.__dict__\n",
    "ppo2 = PPO('CnnPolicy', augmented_env, n_steps=512, verbose=1, custom_buffer=True)"
   ]
  },
  {
   "cell_type": "code",
   "execution_count": 8,
   "id": "headed-brief",
   "metadata": {},
   "outputs": [],
   "source": [
    "# trained_ppo = ppo2.learn(total_timesteps=20000)"
   ]
  },
  {
   "cell_type": "code",
   "execution_count": 9,
   "id": "efficient-field",
   "metadata": {
    "scrolled": false
   },
   "outputs": [
    {
     "name": "stdout",
     "output_type": "stream",
     "text": [
      "100\n"
     ]
    }
   ],
   "source": [
    "actions = []\n",
    "frames = [[] for _ in range(n_envs)]\n",
    "all_rewards = []\n",
    "\n",
    "obs = augmented_env.reset()\n",
    "dones_flag = np.array([False]*n_envs)\n",
    "\n",
    "while not dones_flag.all() and len(actions) < 500:\n",
    "    action, _states = ppo.predict(obs, deterministic=False)\n",
    "    actions.append(action)\n",
    "    obs, rewards, dones, info = augmented_env.step(action)\n",
    "    all_rewards.append(rewards*(~dones_flag))\n",
    "    dones_flag = ['episode' in info[i] for i in range(n_envs)] | dones_flag\n",
    "    for i in range(n_envs):\n",
    "        frames[i] += info[i]['frames']\n",
    "    if len(actions) % 100 == 0:\n",
    "        print(len(actions))"
   ]
  },
  {
   "cell_type": "code",
   "execution_count": 10,
   "id": "spiritual-boring",
   "metadata": {},
   "outputs": [
    {
     "data": {
      "text/plain": [
       "132"
      ]
     },
     "execution_count": 10,
     "metadata": {},
     "output_type": "execute_result"
    }
   ],
   "source": [
    "len(actions)"
   ]
  },
  {
   "cell_type": "code",
   "execution_count": 11,
   "id": "consecutive-basic",
   "metadata": {
    "scrolled": false
   },
   "outputs": [
    {
     "data": {
      "text/plain": [
       "array([29.188013, 27.765678, 32.975166, 28.140633, 32.34302 , 18.03625 ,\n",
       "       31.603065, 29.496185, 31.670149, 39.105423], dtype=float32)"
      ]
     },
     "execution_count": 11,
     "metadata": {},
     "output_type": "execute_result"
    }
   ],
   "source": [
    "np.sum(all_rewards, axis=0)"
   ]
  },
  {
   "cell_type": "code",
   "execution_count": 23,
   "id": "respected-count",
   "metadata": {},
   "outputs": [],
   "source": [
    "images_dir = f'/data/bnp_options_viz/{name}'\n",
    "os.makedirs(images_dir, exist_ok=True)"
   ]
  },
  {
   "cell_type": "code",
   "execution_count": 24,
   "id": "impaired-check",
   "metadata": {},
   "outputs": [],
   "source": [
    "np.save(os.path.join(images_dir, 'frames.npy'), frames, allow_pickle=True)"
   ]
  },
  {
   "cell_type": "code",
   "execution_count": 25,
   "id": "authentic-paraguay",
   "metadata": {},
   "outputs": [],
   "source": [
    "frames = np.load(os.path.join(images_dir, 'frames.npy'), allow_pickle=True)"
   ]
  },
  {
   "cell_type": "code",
   "execution_count": 26,
   "id": "acceptable-cleaners",
   "metadata": {},
   "outputs": [],
   "source": [
    "np.save(os.path.join(images_dir, 'actions.npy'), actions, allow_pickle=True)"
   ]
  },
  {
   "cell_type": "code",
   "execution_count": 27,
   "id": "statutory-antique",
   "metadata": {
    "scrolled": true
   },
   "outputs": [],
   "source": [
    "actions = np.load(os.path.join(images_dir, 'actions.npy'), allow_pickle=True)"
   ]
  },
  {
   "cell_type": "code",
   "execution_count": 28,
   "id": "falling-tractor",
   "metadata": {
    "scrolled": true
   },
   "outputs": [],
   "source": [
    "for j in range(10):\n",
    "    os.makedirs(os.path.join(images_dir, f'images{j}'), exist_ok=True)\n",
    "    for i in range(500):\n",
    "        cv2.imwrite(os.path.join(images_dir, f'images{j}/frame_{i}.jpg'), frames[j][i][..., ::-1])"
   ]
  },
  {
   "cell_type": "code",
   "execution_count": 29,
   "id": "silent-principle",
   "metadata": {},
   "outputs": [],
   "source": [
    "run = 9"
   ]
  },
  {
   "cell_type": "code",
   "execution_count": 30,
   "id": "registered-needle",
   "metadata": {},
   "outputs": [],
   "source": [
    "images_folder = os.path.join(images_dir, f'images{run}')\n",
    "labelled_images_folder = os.path.join(images_dir, f'labelled_images{run}')\n",
    "os.makedirs(labelled_images_folder, exist_ok=True)"
   ]
  },
  {
   "cell_type": "code",
   "execution_count": 31,
   "id": "directed-mount",
   "metadata": {},
   "outputs": [],
   "source": [
    "temp_actions = actions[:, run]\n",
    "duplicated_actions = []\n",
    "for a in temp_actions:\n",
    "    duplicated_actions += [a]*15 if a >= action_dim else [a]\n",
    "duplicated_actions = np.array(duplicated_actions)"
   ]
  },
  {
   "cell_type": "code",
   "execution_count": 32,
   "id": "arbitrary-possession",
   "metadata": {},
   "outputs": [],
   "source": [
    "images = [Image.open(image) for image in [f\"{images_folder}/frame_{i}.jpg\" for i in range(500)]]\n",
    "for i, image in enumerate(images):\n",
    "    draw = ImageDraw.Draw(image)\n",
    "    action = duplicated_actions[i]\n",
    "    label = f\"Option {action - env.action_space.n}\" if action >= action_dim else f\"Action {env.unwrapped.get_action_meanings()[action]}\"\n",
    "    draw.text((1,1), label, (255,255,0), fontsize=15)\n",
    "    image.save(os.path.join(images_dir, f'labelled_images{run}/frame_{i}.jpg'))"
   ]
  },
  {
   "cell_type": "code",
   "execution_count": 33,
   "id": "fourth-narrative",
   "metadata": {},
   "outputs": [],
   "source": [
    "with imageio.get_writer(os.path.join(images_dir, 'test.gif'), mode='I') as writer:\n",
    "    for filename in [f\"{labelled_images_folder}/frame_{i}.jpg\" for i in range(500)]:\n",
    "        image = imageio.imread(filename)\n",
    "        writer.append_data(image)"
   ]
  },
  {
   "cell_type": "code",
   "execution_count": null,
   "id": "suited-beverage",
   "metadata": {},
   "outputs": [],
   "source": []
  },
  {
   "cell_type": "code",
   "execution_count": null,
   "id": "cutting-madrid",
   "metadata": {},
   "outputs": [],
   "source": []
  },
  {
   "cell_type": "code",
   "execution_count": null,
   "id": "assured-patient",
   "metadata": {},
   "outputs": [],
   "source": []
  },
  {
   "cell_type": "code",
   "execution_count": null,
   "id": "complimentary-lesbian",
   "metadata": {},
   "outputs": [],
   "source": [
    "import matplotlib.pyplot as plt\n",
    "import matplotlib.animation as animation\n",
    "import time\n",
    "%matplotlib notebook"
   ]
  },
  {
   "cell_type": "code",
   "execution_count": null,
   "id": "optical-tribute",
   "metadata": {},
   "outputs": [],
   "source": [
    "fig = plt.figure()\n",
    "ax = plt.axes()\n",
    "im = ax.imshow(frames[3][0])\n",
    "label = ax.text(10, 10, \"NA\", ha='center', va='center', fontsize=20, color=\"Red\")\n",
    "\n",
    "def animate(n, *args, **kwargs):\n",
    "    ax.imshow(frames[3][n])\n",
    "    label.set_text(str(actions[3][n]))\n",
    "    return\n",
    "\n",
    "ani = animation.FuncAnimation(fig, animate, frames = 1000, interval = 30, blit = False, repeat = False)\n",
    "fig.show()"
   ]
  },
  {
   "cell_type": "code",
   "execution_count": null,
   "id": "stretch-swaziland",
   "metadata": {},
   "outputs": [],
   "source": []
  },
  {
   "cell_type": "code",
   "execution_count": null,
   "id": "russian-determination",
   "metadata": {},
   "outputs": [],
   "source": []
  },
  {
   "cell_type": "code",
   "execution_count": null,
   "id": "sunset-accent",
   "metadata": {},
   "outputs": [],
   "source": []
  },
  {
   "cell_type": "code",
   "execution_count": null,
   "id": "removable-mechanism",
   "metadata": {},
   "outputs": [],
   "source": []
  }
 ],
 "metadata": {
  "kernelspec": {
   "display_name": "Python 3",
   "language": "python",
   "name": "python3"
  },
  "language_info": {
   "codemirror_mode": {
    "name": "ipython",
    "version": 3
   },
   "file_extension": ".py",
   "mimetype": "text/x-python",
   "name": "python",
   "nbconvert_exporter": "python",
   "pygments_lexer": "ipython3",
   "version": "3.8.8"
  }
 },
 "nbformat": 4,
 "nbformat_minor": 5
}
